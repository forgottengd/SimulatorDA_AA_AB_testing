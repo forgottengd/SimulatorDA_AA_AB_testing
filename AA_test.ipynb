{
 "cells": [
  {
   "cell_type": "markdown",
   "id": "54fd1b76-df79-4730-b607-701a58f324e0",
   "metadata": {},
   "source": [
    "### Импорт библиотек"
   ]
  },
  {
   "cell_type": "code",
   "execution_count": 1,
   "id": "3486cd10-0ab8-4b5d-97b1-713fc7b27ffc",
   "metadata": {},
   "outputs": [],
   "source": [
    "import pandas as pd\n",
    "import seaborn as sns\n",
    "import numpy as np\n",
    "import matplotlib.pyplot as plt\n",
    "import pandahouse as ph\n",
    "import scipy.stats as stats"
   ]
  },
  {
   "cell_type": "code",
   "execution_count": 2,
   "id": "0a584474-62de-496c-b462-49d796df997f",
   "metadata": {},
   "outputs": [],
   "source": [
    "plt.rcParams['figure.figsize'] = [22, 11]"
   ]
  },
  {
   "cell_type": "markdown",
   "id": "2554125d-ac2b-458c-a41d-f2810b18a31b",
   "metadata": {},
   "source": [
    "### Напишем запрос к бд и посмотрим на данные"
   ]
  },
  {
   "cell_type": "code",
   "execution_count": 3,
   "id": "586dfd3d-eb24-4825-9f00-aec6eb29ce08",
   "metadata": {},
   "outputs": [],
   "source": [
    "connection = {\n",
    "    'host': 'https://clickhouse.lab.karpov.courses',\n",
    "    'database':'simulator_20230320',\n",
    "    'user':'student', \n",
    "    'password':'dpo_python_2020'\n",
    "}\n",
    "\n",
    "query = '''\n",
    "SELECT exp_group, \n",
    "    user_id,\n",
    "    sum(action = 'like') as likes,\n",
    "    sum(action = 'view') as views,\n",
    "    likes/views as ctr\n",
    "FROM {db}.feed_actions \n",
    "WHERE toDate(time) between '2023-02-23' and '2023-03-01'\n",
    "    and exp_group in (2,3)\n",
    "GROUP BY exp_group, user_id\n",
    "'''"
   ]
  },
  {
   "cell_type": "code",
   "execution_count": 4,
   "id": "8423080b-308d-42e9-96f7-19777037b7cf",
   "metadata": {},
   "outputs": [],
   "source": [
    "df = ph.read_clickhouse(query, connection=connection)"
   ]
  },
  {
   "cell_type": "code",
   "execution_count": 5,
   "id": "563fa092-a500-4bd6-b1b1-09ffe8f524b3",
   "metadata": {},
   "outputs": [
    {
     "data": {
      "text/html": [
       "<div>\n",
       "<style scoped>\n",
       "    .dataframe tbody tr th:only-of-type {\n",
       "        vertical-align: middle;\n",
       "    }\n",
       "\n",
       "    .dataframe tbody tr th {\n",
       "        vertical-align: top;\n",
       "    }\n",
       "\n",
       "    .dataframe thead th {\n",
       "        text-align: right;\n",
       "    }\n",
       "</style>\n",
       "<table border=\"1\" class=\"dataframe\">\n",
       "  <thead>\n",
       "    <tr style=\"text-align: right;\">\n",
       "      <th></th>\n",
       "      <th>exp_group</th>\n",
       "      <th>user_id</th>\n",
       "      <th>likes</th>\n",
       "      <th>views</th>\n",
       "      <th>ctr</th>\n",
       "    </tr>\n",
       "  </thead>\n",
       "  <tbody>\n",
       "    <tr>\n",
       "      <th>0</th>\n",
       "      <td>3</td>\n",
       "      <td>115383</td>\n",
       "      <td>11</td>\n",
       "      <td>36</td>\n",
       "      <td>0.305556</td>\n",
       "    </tr>\n",
       "    <tr>\n",
       "      <th>1</th>\n",
       "      <td>3</td>\n",
       "      <td>123580</td>\n",
       "      <td>15</td>\n",
       "      <td>92</td>\n",
       "      <td>0.163043</td>\n",
       "    </tr>\n",
       "    <tr>\n",
       "      <th>2</th>\n",
       "      <td>2</td>\n",
       "      <td>131473</td>\n",
       "      <td>26</td>\n",
       "      <td>148</td>\n",
       "      <td>0.175676</td>\n",
       "    </tr>\n",
       "    <tr>\n",
       "      <th>3</th>\n",
       "      <td>2</td>\n",
       "      <td>23985</td>\n",
       "      <td>12</td>\n",
       "      <td>66</td>\n",
       "      <td>0.181818</td>\n",
       "    </tr>\n",
       "    <tr>\n",
       "      <th>4</th>\n",
       "      <td>2</td>\n",
       "      <td>24523</td>\n",
       "      <td>17</td>\n",
       "      <td>120</td>\n",
       "      <td>0.141667</td>\n",
       "    </tr>\n",
       "    <tr>\n",
       "      <th>5</th>\n",
       "      <td>2</td>\n",
       "      <td>24239</td>\n",
       "      <td>53</td>\n",
       "      <td>119</td>\n",
       "      <td>0.445378</td>\n",
       "    </tr>\n",
       "    <tr>\n",
       "      <th>6</th>\n",
       "      <td>3</td>\n",
       "      <td>19647</td>\n",
       "      <td>21</td>\n",
       "      <td>146</td>\n",
       "      <td>0.143836</td>\n",
       "    </tr>\n",
       "    <tr>\n",
       "      <th>7</th>\n",
       "      <td>2</td>\n",
       "      <td>14680</td>\n",
       "      <td>8</td>\n",
       "      <td>70</td>\n",
       "      <td>0.114286</td>\n",
       "    </tr>\n",
       "    <tr>\n",
       "      <th>8</th>\n",
       "      <td>2</td>\n",
       "      <td>127588</td>\n",
       "      <td>7</td>\n",
       "      <td>44</td>\n",
       "      <td>0.159091</td>\n",
       "    </tr>\n",
       "    <tr>\n",
       "      <th>9</th>\n",
       "      <td>2</td>\n",
       "      <td>119153</td>\n",
       "      <td>14</td>\n",
       "      <td>61</td>\n",
       "      <td>0.229508</td>\n",
       "    </tr>\n",
       "  </tbody>\n",
       "</table>\n",
       "</div>"
      ],
      "text/plain": [
       "   exp_group  user_id  likes  views       ctr\n",
       "0          3   115383     11     36  0.305556\n",
       "1          3   123580     15     92  0.163043\n",
       "2          2   131473     26    148  0.175676\n",
       "3          2    23985     12     66  0.181818\n",
       "4          2    24523     17    120  0.141667\n",
       "5          2    24239     53    119  0.445378\n",
       "6          3    19647     21    146  0.143836\n",
       "7          2    14680      8     70  0.114286\n",
       "8          2   127588      7     44  0.159091\n",
       "9          2   119153     14     61  0.229508"
      ]
     },
     "execution_count": 5,
     "metadata": {},
     "output_type": "execute_result"
    }
   ],
   "source": [
    "df.head(10)"
   ]
  },
  {
   "cell_type": "code",
   "execution_count": 6,
   "id": "67af486b-4010-4cf1-93f6-8cf351729eff",
   "metadata": {},
   "outputs": [
    {
     "data": {
      "text/html": [
       "<div>\n",
       "<style scoped>\n",
       "    .dataframe tbody tr th:only-of-type {\n",
       "        vertical-align: middle;\n",
       "    }\n",
       "\n",
       "    .dataframe tbody tr th {\n",
       "        vertical-align: top;\n",
       "    }\n",
       "\n",
       "    .dataframe thead th {\n",
       "        text-align: right;\n",
       "    }\n",
       "</style>\n",
       "<table border=\"1\" class=\"dataframe\">\n",
       "  <thead>\n",
       "    <tr style=\"text-align: right;\">\n",
       "      <th></th>\n",
       "      <th>exp_group</th>\n",
       "      <th>ctr</th>\n",
       "    </tr>\n",
       "  </thead>\n",
       "  <tbody>\n",
       "    <tr>\n",
       "      <th>0</th>\n",
       "      <td>2</td>\n",
       "      <td>8480</td>\n",
       "    </tr>\n",
       "    <tr>\n",
       "      <th>1</th>\n",
       "      <td>3</td>\n",
       "      <td>8569</td>\n",
       "    </tr>\n",
       "  </tbody>\n",
       "</table>\n",
       "</div>"
      ],
      "text/plain": [
       "   exp_group   ctr\n",
       "0          2  8480\n",
       "1          3  8569"
      ]
     },
     "execution_count": 6,
     "metadata": {},
     "output_type": "execute_result"
    }
   ],
   "source": [
    "df.groupby('exp_group').ctr.count().reset_index()"
   ]
  },
  {
   "cell_type": "markdown",
   "id": "5c891e21-2b98-40fe-94e8-41c9cb59e056",
   "metadata": {},
   "source": [
    "### Построим гистограмму распределения CTR двух групп"
   ]
  },
  {
   "cell_type": "code",
   "execution_count": 7,
   "id": "bee194f3-dd25-413d-aba5-cde5ff5a0b41",
   "metadata": {},
   "outputs": [
    {
     "data": {
      "text/plain": [
       "<AxesSubplot:xlabel='ctr', ylabel='Count'>"
      ]
     },
     "execution_count": 7,
     "metadata": {},
     "output_type": "execute_result"
    },
    {
     "data": {
      "image/png": "[encoded data removed]",
      "text/plain": [
       "<Figure size 1584x792 with 1 Axes>"
      ]
     },
     "metadata": {
      "needs_background": "light"
     },
     "output_type": "display_data"
    }
   ],
   "source": [
    "sns.histplot(data = df, \n",
    "              x='ctr', \n",
    "              hue='exp_group', \n",
    "              palette = ['r', 'b'],\n",
    "              alpha=0.5,\n",
    "              kde=False)"
   ]
  },
  {
   "cell_type": "markdown",
   "id": "ffc61bb3-8e92-40e5-9f6a-9a8e9da04e27",
   "metadata": {},
   "source": [
    "### Видимых различий между группами нет\n",
    "### Проверим, есть ли различия, проведя Т-тест и тест Манна-Уитни"
   ]
  },
  {
   "cell_type": "code",
   "execution_count": 8,
   "id": "d956c646-17da-4c65-a4bb-5427fb0111c7",
   "metadata": {},
   "outputs": [
    {
     "data": {
      "text/plain": [
       "Ttest_indResult(statistic=-0.7393597924958364, pvalue=0.45969873156476293)"
      ]
     },
     "execution_count": 8,
     "metadata": {},
     "output_type": "execute_result"
    }
   ],
   "source": [
    "stats.ttest_ind(df[df.exp_group == 2].ctr,\n",
    "                df[df.exp_group == 3].ctr,\n",
    "                equal_var=False)"
   ]
  },
  {
   "cell_type": "code",
   "execution_count": 9,
   "id": "4624f809-0225-45f0-8df8-24e0543f5b41",
   "metadata": {},
   "outputs": [
    {
     "data": {
      "text/plain": [
       "MannwhitneyuResult(statistic=36124728.5, pvalue=0.5177480614337441)"
      ]
     },
     "execution_count": 9,
     "metadata": {},
     "output_type": "execute_result"
    }
   ],
   "source": [
    "stats.mannwhitneyu(df[df.exp_group == 2].ctr,\n",
    "                df[df.exp_group == 3].ctr)"
   ]
  },
  {
   "cell_type": "markdown",
   "id": "6ad0eaab-de43-4bba-89e9-9764e56f2744",
   "metadata": {},
   "source": [
    "### Получившиеся p-value высокое, можем полагать что различий нет"
   ]
  },
  {
   "cell_type": "markdown",
   "id": "ef4712a8-b077-4820-a24b-d12ec56d960d",
   "metadata": {},
   "source": [
    "### Проведем т-тест среди 500 значений 10000 раз и посмотрим на гистограмму получившихся p-value"
   ]
  },
  {
   "cell_type": "code",
   "execution_count": 10,
   "id": "5e916788-f20e-4ae6-ada6-f8d75ebf6f32",
   "metadata": {},
   "outputs": [],
   "source": [
    "p_values = []\n",
    "for _ in range(10000):\n",
    "    p_values.append(stats.ttest_ind(df[df.exp_group == 2].ctr.sample(500, replace=False).values, df[df.exp_group == 3].ctr.sample(500, replace=False).values)[1])"
   ]
  },
  {
   "cell_type": "code",
   "execution_count": 11,
   "id": "033306ad-d526-4c26-b7b8-594779f9ce0a",
   "metadata": {},
   "outputs": [
    {
     "data": {
      "text/plain": [
       "<AxesSubplot:ylabel='Count'>"
      ]
     },
     "execution_count": 11,
     "metadata": {},
     "output_type": "execute_result"
    },
    {
     "data": {
      "image/png": "[encoded data removed]",
      "text/plain": [
       "<Figure size 1584x792 with 1 Axes>"
      ]
     },
     "metadata": {
      "needs_background": "light"
     },
     "output_type": "display_data"
    }
   ],
   "source": [
    "sns.histplot(data = p_values, kde=False)"
   ]
  },
  {
   "cell_type": "markdown",
   "id": "b7b80a5e-6a5f-4d7e-a614-12535952062f",
   "metadata": {},
   "source": [
    "### Посчитаем % p-value <= 0.05"
   ]
  },
  {
   "cell_type": "code",
   "execution_count": 12,
   "id": "a3c6e108-92db-4e21-a255-353f573113c0",
   "metadata": {},
   "outputs": [
    {
     "data": {
      "text/plain": [
       "0.0444"
      ]
     },
     "execution_count": 12,
     "metadata": {},
     "output_type": "execute_result"
    }
   ],
   "source": [
    "sum(np.array(p_values) <= 0.05) / 10000"
   ]
  },
  {
   "cell_type": "markdown",
   "id": "2589a361-a004-4ac8-ab98-24667c302d51",
   "metadata": {},
   "source": [
    "# На основе гистограммы и % p-value менее 0.05 можно сделать вывод что наша система сплитования работает корректно"
   ]
  }
 ],
 "metadata": {
  "kernelspec": {
   "display_name": "Python 3 (ipykernel)",
   "language": "python",
   "name": "python3"
  },
  "language_info": {
   "codemirror_mode": {
    "name": "ipython",
    "version": 3
   },
   "file_extension": ".py",
   "mimetype": "text/x-python",
   "name": "python",
   "nbconvert_exporter": "python",
   "pygments_lexer": "ipython3",
   "version": "3.8.10"
  }
 },
 "nbformat": 4,
 "nbformat_minor": 5
}
