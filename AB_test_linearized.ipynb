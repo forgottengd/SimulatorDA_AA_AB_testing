{
 "cells": [
  {
   "cell_type": "markdown",
   "id": "dd10a922-6d1a-4027-9fc2-1f948abd248a",
   "metadata": {},
   "source": [
    "### Импортируем библиотеки"
   ]
  },
  {
   "cell_type": "code",
   "execution_count": 1,
   "id": "ff989d6a-a15f-4177-8de6-4e850f2b3d6f",
   "metadata": {},
   "outputs": [],
   "source": [
    "import pandas as pd\n",
    "import pandahouse as ph\n",
    "import seaborn as sns\n",
    "import matplotlib.pyplot as plt\n",
    "import numpy as np\n",
    "import scipy.stats as stats"
   ]
  },
  {
   "cell_type": "code",
   "execution_count": 2,
   "id": "d5fa272c-aaf3-4cfc-83a9-9281b3deab41",
   "metadata": {},
   "outputs": [],
   "source": [
    "plt.rcParams['figure.figsize'] = [22, 11]"
   ]
  },
  {
   "cell_type": "markdown",
   "id": "a9c42706-0c18-4262-a3c3-fa331deb1684",
   "metadata": {},
   "source": [
    "### Выполним запрос к бд и посмотрим на данные"
   ]
  },
  {
   "cell_type": "code",
   "execution_count": 3,
   "id": "259f8f12-033f-4bf8-8c6b-76d1858ca627",
   "metadata": {},
   "outputs": [],
   "source": [
    "connection = {\n",
    "    'host': 'https://clickhouse.lab.karpov.courses',\n",
    "    'database':'simulator_20230320',\n",
    "    'user':'student', \n",
    "    'password':'dpo_python_2020'\n",
    "}\n",
    "\n",
    "query = '''\n",
    "SELECT exp_group, \n",
    "    user_id,\n",
    "    sum(action = 'like') as likes,\n",
    "    sum(action = 'view') as views,\n",
    "    likes/views as ctr\n",
    "FROM {db}.feed_actions \n",
    "WHERE toDate(time) between '2023-03-02' and '2023-03-08'\n",
    "    and exp_group in (0,1,2,3)\n",
    "GROUP BY exp_group, user_id\n",
    "'''"
   ]
  },
  {
   "cell_type": "code",
   "execution_count": 4,
   "id": "b2a935b1-8704-4d89-9386-fd5b5e68e3f1",
   "metadata": {},
   "outputs": [],
   "source": [
    "df = ph.read_clickhouse(query, connection=connection)"
   ]
  },
  {
   "cell_type": "code",
   "execution_count": 5,
   "id": "a1da829d-715b-44f5-bf7a-9030c441e4e3",
   "metadata": {},
   "outputs": [
    {
     "data": {
      "text/html": [
       "<div>\n",
       "<style scoped>\n",
       "    .dataframe tbody tr th:only-of-type {\n",
       "        vertical-align: middle;\n",
       "    }\n",
       "\n",
       "    .dataframe tbody tr th {\n",
       "        vertical-align: top;\n",
       "    }\n",
       "\n",
       "    .dataframe thead th {\n",
       "        text-align: right;\n",
       "    }\n",
       "</style>\n",
       "<table border=\"1\" class=\"dataframe\">\n",
       "  <thead>\n",
       "    <tr style=\"text-align: right;\">\n",
       "      <th></th>\n",
       "      <th>exp_group</th>\n",
       "      <th>user_id</th>\n",
       "      <th>likes</th>\n",
       "      <th>views</th>\n",
       "      <th>ctr</th>\n",
       "    </tr>\n",
       "  </thead>\n",
       "  <tbody>\n",
       "    <tr>\n",
       "      <th>0</th>\n",
       "      <td>3</td>\n",
       "      <td>115383</td>\n",
       "      <td>9</td>\n",
       "      <td>30</td>\n",
       "      <td>0.300000</td>\n",
       "    </tr>\n",
       "    <tr>\n",
       "      <th>1</th>\n",
       "      <td>1</td>\n",
       "      <td>18392</td>\n",
       "      <td>7</td>\n",
       "      <td>32</td>\n",
       "      <td>0.218750</td>\n",
       "    </tr>\n",
       "    <tr>\n",
       "      <th>2</th>\n",
       "      <td>3</td>\n",
       "      <td>123580</td>\n",
       "      <td>13</td>\n",
       "      <td>48</td>\n",
       "      <td>0.270833</td>\n",
       "    </tr>\n",
       "    <tr>\n",
       "      <th>3</th>\n",
       "      <td>2</td>\n",
       "      <td>131473</td>\n",
       "      <td>14</td>\n",
       "      <td>134</td>\n",
       "      <td>0.104478</td>\n",
       "    </tr>\n",
       "    <tr>\n",
       "      <th>4</th>\n",
       "      <td>2</td>\n",
       "      <td>32420</td>\n",
       "      <td>26</td>\n",
       "      <td>128</td>\n",
       "      <td>0.203125</td>\n",
       "    </tr>\n",
       "    <tr>\n",
       "      <th>5</th>\n",
       "      <td>2</td>\n",
       "      <td>24239</td>\n",
       "      <td>40</td>\n",
       "      <td>90</td>\n",
       "      <td>0.444444</td>\n",
       "    </tr>\n",
       "    <tr>\n",
       "      <th>6</th>\n",
       "      <td>0</td>\n",
       "      <td>30319</td>\n",
       "      <td>21</td>\n",
       "      <td>110</td>\n",
       "      <td>0.190909</td>\n",
       "    </tr>\n",
       "    <tr>\n",
       "      <th>7</th>\n",
       "      <td>1</td>\n",
       "      <td>27443</td>\n",
       "      <td>2</td>\n",
       "      <td>29</td>\n",
       "      <td>0.068966</td>\n",
       "    </tr>\n",
       "    <tr>\n",
       "      <th>8</th>\n",
       "      <td>3</td>\n",
       "      <td>118359</td>\n",
       "      <td>7</td>\n",
       "      <td>38</td>\n",
       "      <td>0.184211</td>\n",
       "    </tr>\n",
       "    <tr>\n",
       "      <th>9</th>\n",
       "      <td>1</td>\n",
       "      <td>27131</td>\n",
       "      <td>12</td>\n",
       "      <td>89</td>\n",
       "      <td>0.134831</td>\n",
       "    </tr>\n",
       "  </tbody>\n",
       "</table>\n",
       "</div>"
      ],
      "text/plain": [
       "   exp_group  user_id  likes  views       ctr\n",
       "0          3   115383      9     30  0.300000\n",
       "1          1    18392      7     32  0.218750\n",
       "2          3   123580     13     48  0.270833\n",
       "3          2   131473     14    134  0.104478\n",
       "4          2    32420     26    128  0.203125\n",
       "5          2    24239     40     90  0.444444\n",
       "6          0    30319     21    110  0.190909\n",
       "7          1    27443      2     29  0.068966\n",
       "8          3   118359      7     38  0.184211\n",
       "9          1    27131     12     89  0.134831"
      ]
     },
     "execution_count": 5,
     "metadata": {},
     "output_type": "execute_result"
    }
   ],
   "source": [
    "df.head(10)"
   ]
  },
  {
   "cell_type": "code",
   "execution_count": 6,
   "id": "f03183f9-79a7-47ac-b7b5-4e7704917a2d",
   "metadata": {},
   "outputs": [
    {
     "data": {
      "text/html": [
       "<div>\n",
       "<style scoped>\n",
       "    .dataframe tbody tr th:only-of-type {\n",
       "        vertical-align: middle;\n",
       "    }\n",
       "\n",
       "    .dataframe tbody tr th {\n",
       "        vertical-align: top;\n",
       "    }\n",
       "\n",
       "    .dataframe thead th {\n",
       "        text-align: right;\n",
       "    }\n",
       "</style>\n",
       "<table border=\"1\" class=\"dataframe\">\n",
       "  <thead>\n",
       "    <tr style=\"text-align: right;\">\n",
       "      <th></th>\n",
       "      <th>exp_group</th>\n",
       "      <th>ctr</th>\n",
       "    </tr>\n",
       "  </thead>\n",
       "  <tbody>\n",
       "    <tr>\n",
       "      <th>0</th>\n",
       "      <td>0</td>\n",
       "      <td>9999</td>\n",
       "    </tr>\n",
       "    <tr>\n",
       "      <th>1</th>\n",
       "      <td>1</td>\n",
       "      <td>10079</td>\n",
       "    </tr>\n",
       "    <tr>\n",
       "      <th>2</th>\n",
       "      <td>2</td>\n",
       "      <td>9952</td>\n",
       "    </tr>\n",
       "    <tr>\n",
       "      <th>3</th>\n",
       "      <td>3</td>\n",
       "      <td>10049</td>\n",
       "    </tr>\n",
       "  </tbody>\n",
       "</table>\n",
       "</div>"
      ],
      "text/plain": [
       "   exp_group    ctr\n",
       "0          0   9999\n",
       "1          1  10079\n",
       "2          2   9952\n",
       "3          3  10049"
      ]
     },
     "execution_count": 6,
     "metadata": {},
     "output_type": "execute_result"
    }
   ],
   "source": [
    "df.groupby('exp_group').ctr.count().reset_index()"
   ]
  },
  {
   "cell_type": "markdown",
   "id": "a9235f55-e9e9-471b-9e58-ed6dc5e50b06",
   "metadata": {},
   "source": [
    "### Посчитаем CTR в контрольных группах"
   ]
  },
  {
   "cell_type": "code",
   "execution_count": 7,
   "id": "de2dfad3-22af-4926-bd40-dc27b5568eda",
   "metadata": {},
   "outputs": [],
   "source": [
    "ctr_control1=sum(df[df.exp_group == 1].likes) / sum(df[df.exp_group == 1].views)"
   ]
  },
  {
   "cell_type": "code",
   "execution_count": 8,
   "id": "808fb568-2983-493b-9d63-5fba0b660465",
   "metadata": {},
   "outputs": [],
   "source": [
    "ctr_control0=sum(df[df.exp_group == 0].likes) / sum(df[df.exp_group == 0].views)"
   ]
  },
  {
   "cell_type": "code",
   "execution_count": 9,
   "id": "3cbfe7b9-16b2-4b08-8a18-59c8a5338b0b",
   "metadata": {},
   "outputs": [
    {
     "data": {
      "text/plain": [
       "(0.20823612262916305, 0.20802680490126244)"
      ]
     },
     "execution_count": 9,
     "metadata": {},
     "output_type": "execute_result"
    }
   ],
   "source": [
    "ctr_control0, ctr_control1"
   ]
  },
  {
   "cell_type": "markdown",
   "id": "28feb286-54eb-4bd1-9c81-7605249bcf51",
   "metadata": {},
   "source": [
    "### Напишем функцию для вычисления метрики, разделим данные для работы"
   ]
  },
  {
   "cell_type": "code",
   "execution_count": 10,
   "id": "875092d7-9d00-418d-8ef2-a241ca3f2869",
   "metadata": {},
   "outputs": [],
   "source": [
    "def get_linearized_likes(user_likes, user_views, ctr_control):\n",
    "    linearized_like = user_likes - ctr_control * user_views\n",
    "    return linearized_like"
   ]
  },
  {
   "cell_type": "code",
   "execution_count": 11,
   "id": "925dfe98-061f-42b9-a4a7-6218988ea2e1",
   "metadata": {},
   "outputs": [],
   "source": [
    "group12 = df[(df.exp_group == 1) | (df.exp_group == 2)].copy()\n",
    "group03 = df[(df.exp_group == 0) | (df.exp_group == 3)].copy()"
   ]
  },
  {
   "cell_type": "markdown",
   "id": "3452c4b5-3d29-47a6-a39e-f23ed65d54ad",
   "metadata": {},
   "source": [
    "### Проведем первый эксперимент с группами 1 и 2 (1 группа контрольная). Сравним данные t-теста на линеаризованных лайках и обычном ctr"
   ]
  },
  {
   "cell_type": "code",
   "execution_count": 12,
   "id": "f414c436-381a-4bc8-8bbb-fd6afdb2c1ff",
   "metadata": {},
   "outputs": [],
   "source": [
    "group12['linearized_like'] = group12.apply(lambda x: get_linearized_likes(x['likes'], x['views'], ctr_control1), axis=1)"
   ]
  },
  {
   "cell_type": "code",
   "execution_count": 13,
   "id": "ca6a8175-fc35-4306-b91c-e93d0c64a3c1",
   "metadata": {},
   "outputs": [
    {
     "data": {
      "text/plain": [
       "<AxesSubplot:xlabel='linearized_like', ylabel='Count'>"
      ]
     },
     "execution_count": 13,
     "metadata": {},
     "output_type": "execute_result"
    },
    {
     "data": {
      "image/png": "[encoded data removed]",
      "text/plain": [
       "<Figure size 1584x792 with 1 Axes>"
      ]
     },
     "metadata": {
      "needs_background": "light"
     },
     "output_type": "display_data"
    }
   ],
   "source": [
    "sns.histplot(data = group12, \n",
    "              x='linearized_like', \n",
    "              hue='exp_group', \n",
    "              palette = ['r', 'b'],\n",
    "              alpha=0.5,\n",
    "              kde=False)"
   ]
  },
  {
   "cell_type": "code",
   "execution_count": 14,
   "id": "dc51b23b-e67c-400f-b2ee-11b8c17cb471",
   "metadata": {},
   "outputs": [
    {
     "data": {
      "text/plain": [
       "Ttest_indResult(statistic=6.122579994775972, pvalue=9.439432187037712e-10)"
      ]
     },
     "execution_count": 14,
     "metadata": {},
     "output_type": "execute_result"
    }
   ],
   "source": [
    "stats.ttest_ind(group12[group12.exp_group == 1].linearized_like,\n",
    "                group12[group12.exp_group == 2].linearized_like,\n",
    "                equal_var=False)"
   ]
  },
  {
   "cell_type": "code",
   "execution_count": 15,
   "id": "f0cf9444-414f-4eae-821c-e0d8c078abf0",
   "metadata": {},
   "outputs": [
    {
     "data": {
      "text/plain": [
       "Ttest_indResult(statistic=0.7116545895251319, pvalue=0.4766869824114077)"
      ]
     },
     "execution_count": 15,
     "metadata": {},
     "output_type": "execute_result"
    }
   ],
   "source": [
    "stats.ttest_ind(group12[group12.exp_group == 1].ctr,\n",
    "                group12[group12.exp_group == 2].ctr)"
   ]
  },
  {
   "cell_type": "markdown",
   "id": "87b8d46c-08b9-495a-b7f3-4cb4aadaafec",
   "metadata": {},
   "source": [
    "### Вывод: при использовании метрики линеаризованных лайков мы сразу видим что группы отличаются, при этом т-тест CTR показывает что группы равны (из-за выбросов, это мы знаем с предыдущего урока"
   ]
  },
  {
   "cell_type": "markdown",
   "id": "101484ff-bb18-40e7-88d8-1b3d8cbea400",
   "metadata": {},
   "source": [
    "### Проведем второй эксперимент, с группами 0 и 3 (0 группа контрольная)"
   ]
  },
  {
   "cell_type": "code",
   "execution_count": 16,
   "id": "a6548a3d-63c1-407b-a257-a8805a96d1eb",
   "metadata": {},
   "outputs": [],
   "source": [
    "group03['linearized_like'] = group03.apply(lambda x: get_linearized_likes(x['likes'], x['views'], ctr_control0), axis=1)"
   ]
  },
  {
   "cell_type": "code",
   "execution_count": 17,
   "id": "b1159cc2-71cd-4648-a14e-529f5606dc92",
   "metadata": {},
   "outputs": [
    {
     "data": {
      "text/plain": [
       "<AxesSubplot:xlabel='linearized_like', ylabel='Count'>"
      ]
     },
     "execution_count": 17,
     "metadata": {},
     "output_type": "execute_result"
    },
    {
     "data": {
      "image/png": "[encoded data removed]",
      "text/plain": [
       "<Figure size 1584x792 with 1 Axes>"
      ]
     },
     "metadata": {
      "needs_background": "light"
     },
     "output_type": "display_data"
    }
   ],
   "source": [
    "sns.histplot(data = group03, \n",
    "              x='linearized_like', \n",
    "              hue='exp_group', \n",
    "              palette = ['r', 'b'],\n",
    "              alpha=0.5,\n",
    "              kde=False)"
   ]
  },
  {
   "cell_type": "code",
   "execution_count": 18,
   "id": "2ca6687f-bb60-4ff0-9c52-dce70759ca19",
   "metadata": {},
   "outputs": [
    {
     "data": {
      "text/plain": [
       "Ttest_indResult(statistic=-15.214995460903827, pvalue=5.4914249479690016e-52)"
      ]
     },
     "execution_count": 18,
     "metadata": {},
     "output_type": "execute_result"
    }
   ],
   "source": [
    "stats.ttest_ind(group03[group03.exp_group == 0].linearized_like,\n",
    "                group03[group03.exp_group == 3].linearized_like,\n",
    "                equal_var=False)"
   ]
  },
  {
   "cell_type": "code",
   "execution_count": 19,
   "id": "5c8d6c4f-d93a-45e4-ad90-66aed50977c3",
   "metadata": {},
   "outputs": [
    {
     "data": {
      "text/plain": [
       "Ttest_indResult(statistic=-13.896870721904069, pvalue=1.055849414662529e-43)"
      ]
     },
     "execution_count": 19,
     "metadata": {},
     "output_type": "execute_result"
    }
   ],
   "source": [
    "stats.ttest_ind(group03[group03.exp_group == 0].ctr,\n",
    "                group03[group03.exp_group == 3].ctr,\n",
    "                equal_var=False)"
   ]
  },
  {
   "cell_type": "markdown",
   "id": "28676411-7b1f-4292-970b-dfe44c6c731b",
   "metadata": {},
   "source": [
    "## Во втором эксперименте при т-тесте линеаризованных лайков p-value меньше чем при т-тест обычного CTR - чувствительность теста выросла"
   ]
  }
 ],
 "metadata": {
  "kernelspec": {
   "display_name": "Python 3 (ipykernel)",
   "language": "python",
   "name": "python3"
  },
  "language_info": {
   "codemirror_mode": {
    "name": "ipython",
    "version": 3
   },
   "file_extension": ".py",
   "mimetype": "text/x-python",
   "name": "python",
   "nbconvert_exporter": "python",
   "pygments_lexer": "ipython3",
   "version": "3.9.7"
  }
 },
 "nbformat": 4,
 "nbformat_minor": 5
}
